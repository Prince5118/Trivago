{
 "cells": [
  {
   "cell_type": "code",
   "execution_count": 1,
   "metadata": {},
   "outputs": [],
   "source": [
    "import csv\n",
    "import copy\n",
    "import pickle\n",
    "import pprint\n",
    "import pandas as pd\n",
    "import numpy as np\n",
    "import torch"
   ]
  },
  {
   "cell_type": "code",
   "execution_count": 2,
   "metadata": {},
   "outputs": [],
   "source": [
    "import torch.nn as nn\n",
    "import torch.nn.functional as F\n",
    "from torch.optim import lr_scheduler\n",
    "from torch.utils.data.dataset import random_split"
   ]
  },
  {
   "cell_type": "code",
   "execution_count": 3,
   "metadata": {},
   "outputs": [],
   "source": [
    "from collections import Counter\n",
    "from tqdm import tqdm"
   ]
  },
  {
   "cell_type": "code",
   "execution_count": 4,
   "metadata": {},
   "outputs": [],
   "source": [
    "train_df = pd.read_csv('processed/train.csv')\n",
    "test_df = pd.read_csv('processed/test.csv')\n",
    "item_df = pd.read_csv('processed/item_metadata.csv')\n",
    "submission_df = pd.read_csv('processed/submission_popular.csv')"
   ]
  },
  {
   "cell_type": "code",
   "execution_count": 5,
   "metadata": {},
   "outputs": [],
   "source": []
  },
  {
   "cell_type": "code",
   "execution_count": 6,
   "metadata": {},
   "outputs": [
    {
     "name": "stderr",
     "output_type": "stream",
     "text": [
      "927142it [06:53, 2241.11it/s]\n"
     ]
    }
   ],
   "source": []
  },
  {
   "cell_type": "code",
   "execution_count": 5,
   "metadata": {},
   "outputs": [],
   "source": [
    "#batch_size = 1024\n",
    "batch_size = 64\n",
    "num_epochs = 5\n",
    "learning_rate = 5e-3\n",
    "criterion = nn.L1Loss()\n",
    "\n"
   ]
  },
  {
   "cell_type": "code",
   "execution_count": 8,
   "metadata": {},
   "outputs": [],
   "source": []
  },
  {
   "cell_type": "code",
   "execution_count": 9,
   "metadata": {},
   "outputs": [],
   "source": []
  },
  {
   "cell_type": "code",
   "execution_count": 10,
   "metadata": {},
   "outputs": [],
   "source": []
  },
  {
   "cell_type": "code",
   "execution_count": 11,
   "metadata": {},
   "outputs": [
    {
     "name": "stdout",
     "output_type": "stream",
     "text": [
      "hii\n",
      "step1\n",
      "step2\n",
      "this is  0\n",
      "this is  1\n",
      "this is  2\n",
      "this is  3\n",
      "this is  4\n"
     ]
    }
   ],
   "source": []
  },
  {
   "cell_type": "code",
   "execution_count": 12,
   "metadata": {},
   "outputs": [],
   "source": []
  },
  {
   "cell_type": "code",
   "execution_count": 13,
   "metadata": {},
   "outputs": [],
   "source": []
  },
  {
   "cell_type": "code",
   "execution_count": 14,
   "metadata": {},
   "outputs": [],
   "source": [
    "\"\"\"with open(\"processed/item_encoding_dict.pickle\", \"wb\") as f:\n",
    "    pickle.dump(item_encoding_dict, f)\n",
    "\"\"\""
   ]
  },
  {
   "cell_type": "code",
   "execution_count": 15,
   "metadata": {},
   "outputs": [],
   "source": [
    "############################################### Checkpoint1"
   ]
  },
  {
   "cell_type": "code",
   "execution_count": null,
   "metadata": {},
   "outputs": [],
   "source": []
  },
  {
   "cell_type": "code",
   "execution_count": null,
   "metadata": {},
   "outputs": [],
   "source": []
  },
  {
   "cell_type": "code",
   "execution_count": 6,
   "metadata": {},
   "outputs": [],
   "source": [
    "impressions_idx = train_df[~train_df['impressions'].isna()].index\n",
    "clicked_items = list(set([int(item_id) for item_id in list(train_df.loc[impressions_idx]['reference'])]))"
   ]
  },
  {
   "cell_type": "code",
   "execution_count": 7,
   "metadata": {},
   "outputs": [
    {
     "name": "stderr",
     "output_type": "stream",
     "text": [
      "100%|██████████| 289506/289506 [10:16<00:00, 469.34it/s]\n"
     ]
    }
   ],
   "source": [
    "clicked_item_properties = []\n",
    "for item in tqdm(clicked_items):\n",
    "    try:\n",
    "        clicked_item_properties += list(item_df[item_df['item_id']==item]['properties'])[0].split(\"|\")\n",
    "    except:\n",
    "        pass\n",
    "clicked_item_property_count = Counter(clicked_item_properties)"
   ]
  },
  {
   "cell_type": "code",
   "execution_count": 8,
   "metadata": {},
   "outputs": [
    {
     "name": "stdout",
     "output_type": "stream",
     "text": [
      "Television 186517\n",
      "Shower 193050\n",
      "Openable Windows 157062\n",
      "Car Park 188990\n",
      "Good Rating 192611\n",
      "WiFi (Public Areas) 185850\n",
      "WiFi (Rooms) 182765\n",
      "Hotel 168274\n",
      "Satisfactory Rating 217153\n",
      "Non-Smoking Rooms 158510\n"
     ]
    }
   ],
   "source": [
    "for k, v in clicked_item_property_count.items():\n",
    "    if v > 150000:\n",
    "        print (k, v)"
   ]
  },
  {
   "cell_type": "code",
   "execution_count": 9,
   "metadata": {},
   "outputs": [
    {
     "name": "stderr",
     "output_type": "stream",
     "text": [
      "100%|██████████| 927142/927142 [00:30<00:00, 29923.85it/s]\n"
     ]
    }
   ],
   "source": [
    "item_hotel = {}\n",
    "item_star = {}\n",
    "item_tv = {}\n",
    "item_shower = {}\n",
    "item_window = {}\n",
    "item_car = {}\n",
    "item_wifi = {}\n",
    "item_nosmoke = {}\n",
    "for i in tqdm(range(len(item_df))):\n",
    "    item_id = item_df['item_id'][i]\n",
    "    properties = item_df['properties'][i].split(\"|\")\n",
    "    stars = [p for p in properties if 'Star' in p and len(p)==6]\n",
    "    if 'Hotel' in properties:\n",
    "        item_hotel[item_id] = 1\n",
    "        if len(stars) > 0:\n",
    "            item_star[item_id] = int(stars[0][0])\n",
    "        else:\n",
    "            item_star[item_id] = 0\n",
    "    else:\n",
    "        item_hotel[item_id] = 0\n",
    "        item_star[item_id] = 0\n",
    "    \n",
    "    item_tv[item_id] = 1 if 'Television' in properties else 0\n",
    "    item_shower[item_id] = 1 if 'Shower' in properties else 0\n",
    "    item_window[item_id] = 1 if 'Openable Windows' in properties else 0\n",
    "    item_car[item_id] = 1 if 'Car Park' in properties else 0\n",
    "    item_wifi[item_id] = 1 if 'WiFi (Public Areas)' in properties else 0\n",
    "    item_wifi[item_id] = 1 if 'WiFi (Rooms)' in properties else item_wifi[item_id]\n",
    "    item_nosmoke[item_id] = 1 if 'Non-Smoking Rooms' in properties else 0"
   ]
  },
  {
   "cell_type": "code",
   "execution_count": 20,
   "metadata": {},
   "outputs": [],
   "source": [
    "###################RuntimeError: cublas runtime error : the GPU program failed to execute at C:/w/1/s/tmp_conda_3.7_055306/conda/conda-bld/pytorch_1556690124416/work/aten/src/THC/THCBlas.cu:259"
   ]
  },
  {
   "cell_type": "code",
   "execution_count": 21,
   "metadata": {},
   "outputs": [],
   "source": [
    "################Make 'rating' dictionary using item metadata"
   ]
  },
  {
   "cell_type": "code",
   "execution_count": 10,
   "metadata": {},
   "outputs": [
    {
     "name": "stdout",
     "output_type": "stream",
     "text": [
      "['Satisfactory Rating', 'Very Good Rating', 'Excellent Rating', 'Good Rating']\n"
     ]
    }
   ],
   "source": [
    "properties = []\n",
    "for i in range(len(item_df)):\n",
    "    properties += item_df['properties'][i].split(\"|\")\n",
    "properties = list(set(properties))\n",
    "ratings = [p for p in properties if 'Rating' in p]\n",
    "print (ratings)"
   ]
  },
  {
   "cell_type": "code",
   "execution_count": 11,
   "metadata": {},
   "outputs": [],
   "source": [
    "item_rating = {}\n",
    "for i in range(len(item_df)):\n",
    "    item_id = item_df['item_id'][i]\n",
    "    properties = item_df['properties'][i].split(\"|\")\n",
    "    rating = [p for p in properties if p in ratings]\n",
    "    item_rating[item_id] = len(rating)+1"
   ]
  },
  {
   "cell_type": "code",
   "execution_count": null,
   "metadata": {},
   "outputs": [],
   "source": []
  },
  {
   "cell_type": "code",
   "execution_count": 24,
   "metadata": {},
   "outputs": [
    {
     "data": {
      "text/plain": [
       "\"\\nMake 'viewed' feature¶\\nBinary check on items that the user has seen before (before session or before step within session)\\n\""
      ]
     },
     "execution_count": 24,
     "metadata": {},
     "output_type": "execute_result"
    }
   ],
   "source": [
    "\"\"\"\n",
    "Make 'viewed' feature¶\n",
    "Binary check on items that the user has seen before (before session or before step within session)\n",
    "\"\"\""
   ]
  },
  {
   "cell_type": "code",
   "execution_count": 12,
   "metadata": {},
   "outputs": [
    {
     "name": "stderr",
     "output_type": "stream",
     "text": [
      "15932992it [43:26, 6111.63it/s]\n",
      "3782335it [18:29, 3408.63it/s]\n"
     ]
    }
   ],
   "source": [
    "user_lst = list(set(list(set(train_df['user_id']))+list(set(test_df['user_id']))))\n",
    "user_items = {}\n",
    "for user in user_lst:\n",
    "    user_items[user] = []\n",
    "\n",
    "viewed_lst = []\n",
    "for i, row in tqdm(train_df.iterrows()):\n",
    "    u_id = row['user_id']\n",
    "    action = row['action_type']\n",
    "    ref = row['reference']\n",
    "    impressions = row['impressions']\n",
    "    \n",
    "    if action == \"clickout item\":\n",
    "        viewed = \"|\".join([str(1) if int(item) in user_items[u_id] else str(0) for item in impressions.split(\"|\")])\n",
    "        viewed_lst.append(viewed)\n",
    "    else:\n",
    "        viewed_lst.append(np.nan)\n",
    "        \n",
    "    try:\n",
    "        if int(ref) not in user_items[u_id]:\n",
    "            user_items[u_id].append(int(ref))\n",
    "    except:\n",
    "        pass\n",
    "\n",
    "train_df['viewed'] = viewed_lst\n",
    "\n",
    "viewed_lst = []\n",
    "for i, row in tqdm(test_df.iterrows()):\n",
    "    u_id = row['user_id']\n",
    "    action = row['action_type']\n",
    "    ref = row['reference']\n",
    "    impressions = row['impressions']\n",
    "    \n",
    "    if action == \"clickout item\":\n",
    "        viewed = \"|\".join([str(1) if int(item) in user_items[u_id] else str(0) for item in impressions.split(\"|\")])\n",
    "        viewed_lst.append(viewed)\n",
    "    else:\n",
    "        viewed_lst.append(np.nan)\n",
    "        \n",
    "    try:\n",
    "        if int(ref) not in user_items[u_id]:\n",
    "            user_items[u_id].append(int(ref))\n",
    "    except:\n",
    "        pass\n",
    "test_df['viewed'] = viewed_lst"
   ]
  },
  {
   "cell_type": "code",
   "execution_count": null,
   "metadata": {},
   "outputs": [],
   "source": []
  },
  {
   "cell_type": "code",
   "execution_count": 13,
   "metadata": {},
   "outputs": [
    {
     "data": {
      "text/plain": [
       "\"\\nDelete meaningless train dataset for us¶\\ndelete sessions that have no 'clickout' action and delete the steps after the last 'clickout' action within a session.\\n\""
      ]
     },
     "execution_count": 13,
     "metadata": {},
     "output_type": "execute_result"
    }
   ],
   "source": [
    "\"\"\"\n",
    "Delete meaningless train dataset for us¶\n",
    "delete sessions that have no 'clickout' action and delete the steps after the last 'clickout' action within a session.\n",
    "\"\"\""
   ]
  },
  {
   "cell_type": "code",
   "execution_count": 14,
   "metadata": {},
   "outputs": [
    {
     "name": "stderr",
     "output_type": "stream",
     "text": [
      "100%|██████████| 15932992/15932992 [14:42<00:00, 18053.91it/s]\n"
     ]
    }
   ],
   "source": [
    "act_lst = []\n",
    "selected_idx = []\n",
    "\n",
    "for i in tqdm(range(len(train_df))):\n",
    "    step = train_df['step'][i]\n",
    "    if i != 0 and step == 1:\n",
    "        first_idx = i-(len(act_lst))\n",
    "        clickout_idx = np.where(np.array(act_lst)=='clickout item')[0]\n",
    "        if len(clickout_idx) != 0:\n",
    "            last_idx = first_idx + clickout_idx[-1]\n",
    "            selected_idx += list(range(first_idx, last_idx+1))\n",
    "        else:\n",
    "            last_idx = -9999\n",
    "        act_lst = []\n",
    "    act = train_df['action_type'][i]\n",
    "    act_lst.append(act)\n",
    "    \n",
    "selected_idx += list(range(15932973, 15932992))"
   ]
  },
  {
   "cell_type": "code",
   "execution_count": 15,
   "metadata": {},
   "outputs": [],
   "source": [
    "new_train_df = pd.DataFrame(train_df.loc()[selected_idx], columns=train_df.columns)\n",
    "new_train_df = new_train_df.reset_index(drop=True)"
   ]
  },
  {
   "cell_type": "code",
   "execution_count": 29,
   "metadata": {},
   "outputs": [
    {
     "data": {
      "text/plain": [
       "147770662"
      ]
     },
     "execution_count": 29,
     "metadata": {},
     "output_type": "execute_result"
    }
   ],
   "source": [
    "new_train_df.size"
   ]
  },
  {
   "cell_type": "code",
   "execution_count": 16,
   "metadata": {},
   "outputs": [
    {
     "name": "stdout",
     "output_type": "stream",
     "text": [
      "<class 'pandas.core.frame.DataFrame'>\n",
      "RangeIndex: 11366974 entries, 0 to 11366973\n",
      "Data columns (total 13 columns):\n",
      "user_id            object\n",
      "session_id         object\n",
      "timestamp          int64\n",
      "step               int64\n",
      "action_type        object\n",
      "reference          object\n",
      "platform           object\n",
      "city               object\n",
      "device             object\n",
      "current_filters    object\n",
      "impressions        object\n",
      "prices             object\n",
      "viewed             object\n",
      "dtypes: int64(2), object(11)\n",
      "memory usage: 1.1+ GB\n"
     ]
    }
   ],
   "source": [
    "new_train_df.info()"
   ]
  },
  {
   "cell_type": "code",
   "execution_count": 31,
   "metadata": {},
   "outputs": [
    {
     "data": {
      "text/plain": [
       "\"\\nDelete meaningless test dataset for us¶\\ndelete sessions that have no 'clickout' of NaN\\n\""
      ]
     },
     "execution_count": 31,
     "metadata": {},
     "output_type": "execute_result"
    }
   ],
   "source": [
    "\"\"\"\n",
    "Delete meaningless test dataset for us¶\n",
    "delete sessions that have no 'clickout' of NaN\n",
    "\"\"\""
   ]
  },
  {
   "cell_type": "code",
   "execution_count": 17,
   "metadata": {},
   "outputs": [
    {
     "name": "stderr",
     "output_type": "stream",
     "text": [
      "100%|██████████| 3782335/3782335 [05:13<00:00, 12047.35it/s]\n"
     ]
    }
   ],
   "source": [
    "selected_idx = []\n",
    "for i in tqdm(range(len(test_df))):\n",
    "    step = test_df['step'][i]\n",
    "    action_type = test_df['action_type'][i]\n",
    "    ref = test_df['reference'][i]\n",
    "    if step == 1:\n",
    "        first_idx = i\n",
    "    if action_type == 'clickout item' and ref is np.nan:\n",
    "        last_idx = i\n",
    "        selected_idx += list(range(first_idx, last_idx+1))"
   ]
  },
  {
   "cell_type": "code",
   "execution_count": 18,
   "metadata": {},
   "outputs": [],
   "source": [
    "new_test_df = pd.DataFrame(test_df.loc[selected_idx], columns=test_df.columns)\n",
    "new_test_df = new_test_df.reset_index(drop=True)"
   ]
  },
  {
   "cell_type": "code",
   "execution_count": null,
   "metadata": {},
   "outputs": [],
   "source": []
  },
  {
   "cell_type": "code",
   "execution_count": null,
   "metadata": {},
   "outputs": [],
   "source": []
  },
  {
   "cell_type": "code",
   "execution_count": 34,
   "metadata": {},
   "outputs": [
    {
     "data": {
      "text/plain": [
       "'\\nAdd item features from dictionaries\\n'"
      ]
     },
     "execution_count": 34,
     "metadata": {},
     "output_type": "execute_result"
    }
   ],
   "source": [
    "\"\"\"\n",
    "Add item features from dictionaries\n",
    "\"\"\""
   ]
  },
  {
   "cell_type": "code",
   "execution_count": 19,
   "metadata": {},
   "outputs": [],
   "source": [
    "def get_features(df, item_dict):\n",
    "    impressions_idx = df[~df['impressions'].isna()].index\n",
    "    features_lst = []\n",
    "    prev_idx = -1\n",
    "    for idx in tqdm(impressions_idx):\n",
    "        impressions = df['impressions'][idx].split(\"|\")\n",
    "        tmp_features = []\n",
    "        for impression in impressions:\n",
    "            try:\n",
    "                tmp_features.append(str(item_dict[int(impression)]))\n",
    "            except:\n",
    "                tmp_features.append(str(0))\n",
    "        tmp_features = \"|\".join(tmp_features)\n",
    "        tmp_features_lst = [np.nan]*((idx-1)-prev_idx) + [tmp_features]\n",
    "        features_lst += tmp_features_lst\n",
    "        prev_idx = idx\n",
    "    return features_lst"
   ]
  },
  {
   "cell_type": "code",
   "execution_count": null,
   "metadata": {},
   "outputs": [
    {
     "name": "stderr",
     "output_type": "stream",
     "text": [
      "100%|██████████| 1586586/1586586 [01:31<00:00, 17301.07it/s]\n",
      "100%|██████████| 487787/487787 [00:26<00:00, 18421.94it/s]\n",
      "100%|██████████| 1586586/1586586 [02:10<00:00, 12193.49it/s]\n",
      "100%|██████████| 487787/487787 [00:26<00:00, 18630.61it/s]\n",
      "100%|██████████| 1586586/1586586 [02:45<00:00, 9598.80it/s] \n",
      "100%|██████████| 487787/487787 [00:26<00:00, 18443.43it/s]\n"
     ]
    }
   ],
   "source": [
    "names = ['ratings', 'hotel', 'star', 'tv', 'shower', 'window', 'car', 'wifi', 'nosmoke']\n",
    "features_dict = [item_rating, item_hotel, item_star, item_tv, item_shower, item_window, item_car, item_wifi, item_nosmoke]\n",
    "\n",
    "for name, feature_dict in list(zip(names, features_dict)):\n",
    "    new_train_df[name] = get_features(new_train_df, feature_dict)\n",
    "    new_test_df[name] = get_features(new_test_df, feature_dict)"
   ]
  },
  {
   "cell_type": "code",
   "execution_count": null,
   "metadata": {},
   "outputs": [],
   "source": []
  },
  {
   "cell_type": "code",
   "execution_count": null,
   "metadata": {},
   "outputs": [],
   "source": [
    "\"\"\"\n",
    "Add 'resident time' feature\n",
    "\"\"\"\n",
    "def add_resident_time(df):\n",
    "    timestamp_before_lst = np.array(df['timestamp'])[:-1]\n",
    "    timestamp_after_lst = np.array(df['timestamp'])[1:]\n",
    "    \n",
    "    resident_time_lst = timestamp_after_lst-timestamp_before_lst\n",
    "    resident_time_lst = np.append(resident_time_lst, [-9999])\n",
    "    \n",
    "    step1_idx = np.array(df[df['step']==1].index)\n",
    "    final_idx = step1_idx-1\n",
    "    final_idx = np.delete(final_idx, 0)\n",
    "    final_idx = np.append(final_idx, df.index[-1])\n",
    "    \n",
    "    resident_time_lst[final_idx] = -9999\n",
    "    return resident_time_lst"
   ]
  },
  {
   "cell_type": "code",
   "execution_count": null,
   "metadata": {},
   "outputs": [],
   "source": [
    "new_train_df['resident_time'] = add_resident_time(new_train_df)\n",
    "new_test_df['resident_time'] = add_resident_time(new_test_df)"
   ]
  },
  {
   "cell_type": "code",
   "execution_count": null,
   "metadata": {},
   "outputs": [],
   "source": []
  },
  {
   "cell_type": "code",
   "execution_count": null,
   "metadata": {},
   "outputs": [],
   "source": [
    "\"\"\"\n",
    "Add 'price difference' feature and 'rating difference' feature\n",
    "'price difference' is the difference between the accommodations on the screen and the price that the user has seen within the same session\n",
    "'rating difference' is the binary feature. The value is 1 if the rating of the accommodations on the screen is equal to or greater than the minimum rating that the user has seen within the same session, otherwise 0.\n",
    "If user did not see any item, these features are filled with 0.\n",
    "\"\"\""
   ]
  },
  {
   "cell_type": "code",
   "execution_count": null,
   "metadata": {},
   "outputs": [],
   "source": [
    "def copy_features(df):\n",
    "    impressions_idx = df[~df['impressions'].isna()].index\n",
    "    impressions_lst = []\n",
    "    prices_lst = []\n",
    "    ratings_lst = []\n",
    "    prev_idx = -1\n",
    "    for idx in tqdm(impressions_idx):\n",
    "        impressions = df['impressions'][idx]\n",
    "        tmp_impressions = [impressions] * (idx-prev_idx)\n",
    "        impressions_lst += tmp_impressions\n",
    "        \n",
    "        prices = df['prices'][idx]\n",
    "        tmp_prices = [prices] * (idx-prev_idx)\n",
    "        prices_lst += tmp_prices\n",
    "        \n",
    "        ratings = df['ratings'][idx]\n",
    "        tmp_ratings = [ratings] * (idx-prev_idx)\n",
    "        ratings_lst += tmp_ratings\n",
    "        \n",
    "        prev_idx = idx\n",
    "    return impressions_lst, prices_lst, ratings_lst"
   ]
  },
  {
   "cell_type": "code",
   "execution_count": null,
   "metadata": {},
   "outputs": [],
   "source": [
    "new_train_df['impressions'], new_train_df['prices'], new_train_df['ratings'] = copy_features(new_train_df)\n",
    "new_test_df['impressions'], new_test_df['prices'], new_test_df['ratings'] = copy_features(new_test_df)"
   ]
  },
  {
   "cell_type": "code",
   "execution_count": null,
   "metadata": {},
   "outputs": [],
   "source": [
    "def calculate_diff(df):\n",
    "    diff_price_lst = []\n",
    "    diff_rating_lst = []\n",
    "    ref_price = {}\n",
    "    ref_rating = {}\n",
    "    for i in tqdm(range(len(df))):\n",
    "        ref = df['reference'][i]\n",
    "        impressions = df['impressions'][i].split(\"|\")\n",
    "        prices = df['prices'][i].split(\"|\")\n",
    "        ratings = df['ratings'][i].split(\"|\")\n",
    "        resident_time = df['resident_time'][i]\n",
    "        if resident_time != -9999:\n",
    "            diff_price_lst.append(np.nan)\n",
    "            diff_rating_lst.append(np.nan)\n",
    "            if ref in impressions:\n",
    "                ref_idx = impressions.index(ref)\n",
    "                ref_price[ref] = int(prices[ref_idx])\n",
    "                ref_rating[ref] = int(ratings[ref_idx])\n",
    "        else:\n",
    "            if len(ref_price) > 0:\n",
    "                avg_price = sum(ref_price.values())/len(ref_price)\n",
    "                min_rating = min(ref_rating.values())\n",
    "                diff_prices = '|'.join([str(int(p)-avg_price) for p in prices])\n",
    "                diff_ratings = '|'.join([str(1) if int(r)>=min_rating else str(0) for r in ratings])\n",
    "            else:\n",
    "                diff_prices = '|'.join([str(0)]*len(prices))\n",
    "                diff_ratings = '|'.join([str(0)]*len(ratings))\n",
    "            diff_price_lst.append(diff_prices)\n",
    "            diff_rating_lst.append(diff_ratings)\n",
    "            ref_price = {}\n",
    "            ref_rating = {}\n",
    "    return diff_price_lst, diff_rating_lst"
   ]
  },
  {
   "cell_type": "code",
   "execution_count": null,
   "metadata": {},
   "outputs": [],
   "source": [
    "new_train_df['diff_prices'], new_train_df['diff_ratings'] = calculate_diff(new_train_df)\n",
    "new_test_df['diff_prices'], new_test_df['diff_ratings'] = calculate_diff(new_test_df)"
   ]
  },
  {
   "cell_type": "code",
   "execution_count": null,
   "metadata": {},
   "outputs": [],
   "source": []
  },
  {
   "cell_type": "code",
   "execution_count": null,
   "metadata": {},
   "outputs": [],
   "source": [
    "\"\"\"\n",
    "Delete the steps that have or might have items on the screen of the steps from those of the last step.¶\n",
    "case 1. the impression of the step is different from that of the last step\n",
    "case 2. 'change of sort, filter selection, search for item, search for destination, search for poi' actions happen\n",
    "\"\"\""
   ]
  },
  {
   "cell_type": "code",
   "execution_count": null,
   "metadata": {},
   "outputs": [],
   "source": [
    "def filter_diff_impressions(df):\n",
    "    selected_idx = []\n",
    "    prev_impressions = \"\"\n",
    "    for i, row in tqdm(df.iterrows()):\n",
    "        step = row['step']\n",
    "        action_type = row['action_type']\n",
    "        curr_impressions = row['impressions']\n",
    "        resident_time = row['resident_time']\n",
    "\n",
    "        if step == 1:\n",
    "            first_idx = i\n",
    "        \n",
    "        if action_type in ['change of sort order', 'filter selection', 'search for item', 'search for destination', 'search for poi']:\n",
    "            first_idx = i\n",
    "        \n",
    "        if prev_impressions != curr_impressions:\n",
    "            first_idx = i\n",
    "        prev_impressions = curr_impressions\n",
    "        \n",
    "        if resident_time == -9999:\n",
    "            last_idx = i\n",
    "            selected_idx += list(range(first_idx, last_idx+1))\n",
    "            \n",
    "    return selected_idx"
   ]
  },
  {
   "cell_type": "code",
   "execution_count": null,
   "metadata": {},
   "outputs": [],
   "source": [
    "selected_idx = filter_diff_impressions(new_train_df)\n",
    "filtered_train_df = pd.DataFrame(new_train_df.loc[selected_idx], columns=new_train_df.columns)\n",
    "filtered_train_df = filtered_train_df.reset_index(drop=True)"
   ]
  },
  {
   "cell_type": "code",
   "execution_count": null,
   "metadata": {},
   "outputs": [],
   "source": [
    "selected_idx = filter_diff_impressions(new_test_df)\n",
    "filtered_test_df = pd.DataFrame(new_test_df.loc[selected_idx], columns=new_test_df.columns)\n",
    "filtered_test_df = filtered_test_df.reset_index(drop=True)"
   ]
  },
  {
   "cell_type": "code",
   "execution_count": null,
   "metadata": {},
   "outputs": [],
   "source": []
  },
  {
   "cell_type": "code",
   "execution_count": null,
   "metadata": {},
   "outputs": [],
   "source": [
    "\"\"\"\n",
    "Use the average price per nation or city\n",
    "\"\"\""
   ]
  },
  {
   "cell_type": "code",
   "execution_count": null,
   "metadata": {},
   "outputs": [],
   "source": [
    "nation_lst = []\n",
    "for i in tqdm(range(len(filtered_train_df))):\n",
    "    nation_lst.append(filtered_train_df['city'][i].split(\", \")[1])\n",
    "filtered_train_df['nation'] = nation_lst"
   ]
  },
  {
   "cell_type": "code",
   "execution_count": null,
   "metadata": {},
   "outputs": [],
   "source": [
    "test_nation_lst = []\n",
    "for i in tqdm(range(len(filtered_test_df))):\n",
    "    test_nation_lst.append(filtered_test_df['city'][i].split(\", \")[1])\n",
    "filtered_test_df['nation'] = test_nation_lst"
   ]
  },
  {
   "cell_type": "code",
   "execution_count": null,
   "metadata": {},
   "outputs": [],
   "source": [
    "nation_price_dict = {}\n",
    "nations = list(set(nation_lst))\n",
    "last_step = filtered_train_df[filtered_train_df['resident_time']==-9999]\n",
    "for nation in tqdm(nations):\n",
    "    tmp = last_step[last_step['nation']==nation]\n",
    "\n",
    "    prices_all = []\n",
    "    for i in range(len(tmp)):\n",
    "        prices = [int(p) for p in tmp['prices'].iloc[i].split(\"|\")]\n",
    "        prices_all += prices\n",
    "    nation_price_dict[nation] = [np.mean(prices_all), np.median(prices_all)]"
   ]
  },
  {
   "cell_type": "code",
   "execution_count": null,
   "metadata": {},
   "outputs": [],
   "source": [
    "city_price_dict = {}\n",
    "cities = list(set(filtered_train_df['city']))\n",
    "last_step = filtered_train_df[filtered_train_df['resident_time']==-9999]\n",
    "for city in tqdm(cities):\n",
    "    tmp = last_step[last_step['city']==city]\n",
    "    \n",
    "    prices_all = []\n",
    "    for i in range(len(tmp)):\n",
    "        prices = [int(p) for p in tmp['prices'].iloc[i].split(\"|\")]\n",
    "        prices_all += prices\n",
    "    city_price_dict[city] = [np.mean(prices_all), np.median(prices_all)]"
   ]
  },
  {
   "cell_type": "code",
   "execution_count": null,
   "metadata": {},
   "outputs": [],
   "source": [
    "def get_diff_prices(df):\n",
    "    diff_city_mean_lst = []\n",
    "    diff_city_median_lst = []\n",
    "    diff_nation_mean_lst = []\n",
    "    diff_nation_median_lst = []\n",
    "    for i, row in tqdm(df.iterrows()):\n",
    "        if row['resident_time'] == -9999:\n",
    "            city = row['city']\n",
    "            nation = row['nation']\n",
    "            prices = row['prices'].split(\"|\")\n",
    "            try:\n",
    "                city_mean = city_price_dict[city][0]\n",
    "                city_median = city_price_dict[city][1]\n",
    "                nation_mean = nation_price_dict[nation][0]\n",
    "                nation_median = nation_price_dict[nation][1]\n",
    "                diff_city_mean_lst.append('|'.join([str(int(p)-city_mean) for p in prices]))\n",
    "                diff_city_median_lst.append('|'.join([str(int(p)-city_median) for p in prices]))\n",
    "                diff_nation_mean_lst.append('|'.join([str(int(p)-nation_mean) for p in prices]))\n",
    "                diff_nation_median_lst.append('|'.join([str(int(p)-nation_median) for p in prices]))\n",
    "            except:\n",
    "                diff_city_mean_lst.append('|'.join([str(0)]*len(prices)))\n",
    "                diff_city_median_lst.append('|'.join([str(0)]*len(prices)))\n",
    "                diff_nation_mean_lst.append('|'.join([str(0)]*len(prices)))\n",
    "                diff_nation_median_lst.append('|'.join([str(0)]*len(prices)))\n",
    "        else:\n",
    "            diff_city_mean_lst.append(np.nan)\n",
    "            diff_city_median_lst.append(np.nan)\n",
    "            diff_nation_mean_lst.append(np.nan)\n",
    "            diff_nation_median_lst.append(np.nan)\n",
    "    return diff_city_mean_lst, diff_city_median_lst, diff_nation_mean_lst, diff_nation_median_lst"
   ]
  },
  {
   "cell_type": "code",
   "execution_count": null,
   "metadata": {},
   "outputs": [],
   "source": [
    "filtered_train_df['diff_city_mean'], filtered_train_df['diff_city_median'], filtered_train_df['diff_nation_mean'], filtered_train_df['diff_nation_median'] = get_diff_prices(filtered_train_df)\n",
    "filtered_test_df['diff_city_mean'], filtered_test_df['diff_city_median'], filtered_test_df['diff_nation_mean'], filtered_test_df['diff_nation_median'] = get_diff_prices(filtered_test_df)"
   ]
  },
  {
   "cell_type": "code",
   "execution_count": null,
   "metadata": {},
   "outputs": [],
   "source": [
    "filtered_train_df.to_csv('processed/train_final.csv', index=False)\n",
    "filtered_test_df.to_csv('processed/test_final.csv', index=False)"
   ]
  },
  {
   "cell_type": "code",
   "execution_count": null,
   "metadata": {},
   "outputs": [],
   "source": []
  },
  {
   "cell_type": "code",
   "execution_count": null,
   "metadata": {},
   "outputs": [],
   "source": []
  },
  {
   "cell_type": "code",
   "execution_count": null,
   "metadata": {},
   "outputs": [],
   "source": []
  },
  {
   "cell_type": "code",
   "execution_count": null,
   "metadata": {},
   "outputs": [],
   "source": []
  },
  {
   "cell_type": "code",
   "execution_count": null,
   "metadata": {},
   "outputs": [],
   "source": []
  },
  {
   "cell_type": "code",
   "execution_count": null,
   "metadata": {},
   "outputs": [],
   "source": []
  },
  {
   "cell_type": "code",
   "execution_count": null,
   "metadata": {},
   "outputs": [],
   "source": []
  }
 ],
 "metadata": {
  "kernelspec": {
   "display_name": "Python 3",
   "language": "python",
   "name": "python3"
  },
  "language_info": {
   "codemirror_mode": {
    "name": "ipython",
    "version": 3
   },
   "file_extension": ".py",
   "mimetype": "text/x-python",
   "name": "python",
   "nbconvert_exporter": "python",
   "pygments_lexer": "ipython3",
   "version": "3.7.3"
  }
 },
 "nbformat": 4,
 "nbformat_minor": 2
}
